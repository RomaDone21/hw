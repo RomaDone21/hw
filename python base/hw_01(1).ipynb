{
  "cells": [
    {
      "cell_type": "markdown",
      "metadata": {
        "id": "hEDOaU6XTc2E"
      },
      "source": [
        "## 1. Средний балл (списки)\n",
        "\n",
        "Дан список `student = ['Иван Питонов', 2001, [8, 7, 7, 9, 6], True]`. Выполните пункты ниже. Все выводы должны быть в формате \"Средний балл студента: {средний балл}\"\n",
        "\n",
        "1. Выведите фамилию и имя Ивана в формате \"Студент: {Фамилия}, {Имя}\"\n",
        "2. Выведите возраст Ивана, если сейчас 2020 год.\n",
        "3. Напечатайте оценки Ивана через запятую.\n",
        "1. Найдите средний балл Ивана, если оценки хранятся в списке внутри. Сумму элементов списка можно найти с помощью функции sum(). Выведите средний балл.\n",
        "3. Если средняя оценка Ивана больше или равна 8, то он получает повышенную стипендию. Выведите True или False."
      ]
    },
    {
      "cell_type": "code",
      "execution_count": null,
      "metadata": {
        "id": "I0oZRI6BTc2I"
      },
      "outputs": [],
      "source": [
        "student = ['Иван Питонов', 2001, [8, 7, 7, 9, 6], True]"
      ]
    },
    {
      "cell_type": "code",
      "source": [
        "name = student[0].split()\n",
        "print('Студент:', name[1] + ',',  name[0])"
      ],
      "metadata": {
        "colab": {
          "base_uri": "https://localhost:8080/"
        },
        "id": "IBt4qeb6yVQA",
        "outputId": "1737cc01-944b-4f68-fee0-7d25e372a0d0"
      },
      "execution_count": null,
      "outputs": [
        {
          "output_type": "stream",
          "name": "stdout",
          "text": [
            "Студент: Питонов, Иван\n"
          ]
        }
      ]
    },
    {
      "cell_type": "code",
      "source": [
        "print(2020 - student[1])"
      ],
      "metadata": {
        "colab": {
          "base_uri": "https://localhost:8080/"
        },
        "id": "JtYATJbPyVBV",
        "outputId": "5013fa8b-8a8d-4bcb-d765-d9cba5c2d834"
      },
      "execution_count": null,
      "outputs": [
        {
          "output_type": "stream",
          "name": "stdout",
          "text": [
            "19\n"
          ]
        }
      ]
    },
    {
      "cell_type": "code",
      "source": [
        "for i in student[2]:\n",
        "  print(i, end = ',')"
      ],
      "metadata": {
        "colab": {
          "base_uri": "https://localhost:8080/"
        },
        "id": "VvvUatbwyU8A",
        "outputId": "fecac028-e8b9-431b-afb7-4491cdd506cd"
      },
      "execution_count": null,
      "outputs": [
        {
          "output_type": "stream",
          "name": "stdout",
          "text": [
            "8,7,7,9,6,"
          ]
        }
      ]
    },
    {
      "cell_type": "code",
      "source": [
        "print(sum(student[2]) / len(student[2]))"
      ],
      "metadata": {
        "colab": {
          "base_uri": "https://localhost:8080/"
        },
        "id": "lQO4a7fHyU4w",
        "outputId": "72adefba-2463-4759-87fd-56a9740f989d"
      },
      "execution_count": null,
      "outputs": [
        {
          "output_type": "stream",
          "name": "stdout",
          "text": [
            "7.4\n"
          ]
        }
      ]
    },
    {
      "cell_type": "code",
      "source": [
        "flag = False\n",
        "if (sum(student[2]) / len(student[2])) >= 8.0:\n",
        "    flag = True\n",
        "print(flag)"
      ],
      "metadata": {
        "colab": {
          "base_uri": "https://localhost:8080/"
        },
        "id": "Sn2E7QudyU2g",
        "outputId": "c6b33f79-43dd-42b7-96b2-b558c1e04c0e"
      },
      "execution_count": null,
      "outputs": [
        {
          "output_type": "stream",
          "name": "stdout",
          "text": [
            "False\n"
          ]
        }
      ]
    },
    {
      "cell_type": "markdown",
      "metadata": {
        "id": "VHxNdX26Tc2N"
      },
      "source": [
        "## 2. Срезы списков\n",
        "\n",
        "Используя список `dwarves`, выведите на экран с помощью срезов следующие списки:\n",
        "\n",
        "    [\"Двалин\", \"Бифур\", \"Бофур\"]\n",
        "    [\"Балин\", \"Бифур\", \"Бомбур\", \"Глоин\", \"Нори\", \"Фили\", \"Торин\"]\n",
        "    [\"Оин\", \"Дори\", \"Ори\", \"Кили\"]\n",
        "    [\"Торин\", \"Фили\", \"Нори\", \"Глоин\"]"
      ]
    },
    {
      "cell_type": "code",
      "execution_count": null,
      "metadata": {
        "id": "KihPPgl4Tc2O",
        "colab": {
          "base_uri": "https://localhost:8080/"
        },
        "outputId": "6d36f0ed-009b-48a5-a578-d2af1b1987dd"
      },
      "outputs": [
        {
          "output_type": "stream",
          "name": "stdout",
          "text": [
            "['Двалин', 'Бифур', 'Бофур']\n",
            "['Балин', 'Бифур', 'Бомбур', 'Глоин', 'Нори', 'Фили', 'Торин']\n",
            "['Оин', 'Дори', 'Ори', 'Кили']\n",
            "['Торин', 'Фили', 'Нори', 'Глоин']\n"
          ]
        }
      ],
      "source": [
        "dwarves = [\"Балин\", \"Двалин\", \"Бифур\", \"Бофур\",\n",
        "         \"Бомбур\", \"Оин\", \"Глоин\", \"Дори\", \"Нори\",\n",
        "         \"Ори\", \"Фили\", \"Кили\", \"Торин\"]\n",
        "\n",
        "# решение здесь\n",
        "print(dwarves[1:4])\n",
        "print(dwarves[::2])\n",
        "print(dwarves[5::2])\n",
        "print(dwarves[-1:-8:-2])"
      ]
    },
    {
      "cell_type": "markdown",
      "metadata": {
        "id": "TjrC8e9mTc2P"
      },
      "source": [
        "## 3. Вложенные словари\n",
        "\n",
        "Вам дан словарь, содержащий в себе списки словарей. Напишите код, который выведет на экран 'разработчик' из списка ключа Windows в в первом словаре из списка 2."
      ]
    },
    {
      "cell_type": "code",
      "execution_count": null,
      "metadata": {
        "id": "aJ4KnMlMTc2Q",
        "colab": {
          "base_uri": "https://localhost:8080/",
          "height": 35
        },
        "outputId": "3b3fea17-ab4e-41e9-e6d3-5dc8a9cc0281"
      },
      "outputs": [
        {
          "output_type": "execute_result",
          "data": {
            "text/plain": [
              "'разработчик'"
            ],
            "application/vnd.google.colaboratory.intrinsic+json": {
              "type": "string"
            }
          },
          "metadata": {},
          "execution_count": 34
        }
      ],
      "source": [
        "dict_of_lists = {'Список1': [{'Python': 'язык программирования'}, {'R':'язык программирования', 'LaTEX' : 'язык верстки' }],\n",
        "                 'Список2' : [{'Windows' : ['операционная система', 'разработчик'], 'UNIX' : 'операционная система'},\n",
        "                              {'IBM': ['компания-производитель', 'разработчик'], 'IPv6' : 'интернет-протокол' }]}\n",
        "\n",
        "# ваше решение здесь\n",
        "dict_of_lists['Список2'][0]['Windows'][1]"
      ]
    },
    {
      "cell_type": "markdown",
      "metadata": {
        "id": "r_OdT0urTc2R"
      },
      "source": [
        "## 3. Количество различных чисел (списки и множества)\n",
        "\n",
        "Дан список чисел, который может содержать до 100000 чисел.\n",
        "\n",
        "1. Определите, сколько в нем встречается различных чисел.\n",
        "2. Оцените, как зависит количество уникальных элементов в списке от длины списка (от length)\n",
        "\n",
        "Если есть вопрос \"как оценить\", приходите в чат, ответ обязательно найдется. Логика: много раз сгенерировать списки длины l, в каждом посчитать кол-во уникальных элементов, усреднить, повторить для нового l.\n",
        "\n",
        "Если у вас в кармане завалялось математическое вычисление этой зависимости, приносите :)"
      ]
    },
    {
      "cell_type": "code",
      "execution_count": 5,
      "metadata": {
        "id": "ROrOrLGITc2R",
        "colab": {
          "base_uri": "https://localhost:8080/"
        },
        "outputId": "472a1faf-55be-41d1-a4d7-051c3b337ea5"
      },
      "outputs": [
        {
          "output_type": "stream",
          "name": "stdout",
          "text": [
            "Количество элементов: 26407\n",
            "Количество уникальных элементов: 525\n"
          ]
        }
      ],
      "source": [
        "import numpy as np\n",
        "\n",
        "\n",
        "# Генерирую случайную длину до 100000\n",
        "length = np.random.randint(1,100000)\n",
        "\n",
        "# Генерирую случайный список целых чисел из length элементов\n",
        "int_list = list(np.random.binomial(length, 0.5,size = length))\n",
        "print('Количество элементов:',length)\n",
        "print('Количество уникальных элементов:',len(set(int_list)))\n",
        "x = []\n",
        "y = []\n",
        "\n",
        "for i in range(1000):\n",
        "    length = np.random.randint(1,100000)\n",
        "    x.append(length)\n",
        "    y.append(len(set(list(np.random.binomial(length, 0.5,size = length)))))\n",
        "\n",
        "\n"
      ]
    },
    {
      "cell_type": "code",
      "source": [
        "import matplotlib.pyplot as plt\n",
        "plt.scatter(x, y)\n",
        "plt.title('Зависимость')\n",
        "plt.xlabel('Количество элементов')\n",
        "plt.ylabel('Количество уникальных элементов')\n",
        "plt.show()"
      ],
      "metadata": {
        "colab": {
          "base_uri": "https://localhost:8080/",
          "height": 472
        },
        "id": "u-k0RPbnIZJt",
        "outputId": "6de107c9-62ab-44a8-bdee-e0d155d4f661"
      },
      "execution_count": 6,
      "outputs": [
        {
          "output_type": "display_data",
          "data": {
            "text/plain": [
              "<Figure size 640x480 with 1 Axes>"
            ],
            "image/png": "[encoded data removed]"
          },
          "metadata": {}
        }
      ]
    },
    {
      "cell_type": "markdown",
      "metadata": {
        "id": "by5N-H0hTc2T"
      },
      "source": [
        "## 4. Сортируем числа и строки (списки, сортировки, map())\n",
        "Дан список `numbers = [1, 1000, 1002124, 25, 10, 20, 351]`. Выполните следующие шаги. Для сортировок пользуйтесь функцией sorted().\n",
        "\n",
        "1. Отсортируйте этот список по возрастанию и сохраните результат в переменную numbers_int_sorted\n",
        "2. На основе оригинального списка numbers с помощью функции map создайте новый список, где вместо каждого числа будет строка ('1', '1000' и т.д.) и сохраните его в переменную numbers_str\n",
        "3. Отсортируйте список numbers_str по возрастанию и сохраните результат в переменную numbers_str_sorted\n",
        "4. Отсортийте список numbers_str по возрастанию с помощью ключа, который перед сортировкой представляет строки в виде целых чисел, и сохраните результат в переменную numbers_str_key_sorted\n",
        "5. Выведите три отсортированных списка. Есть ли среди них одинаковые? Почему?\n",
        "\n"
      ]
    },
    {
      "cell_type": "code",
      "execution_count": null,
      "metadata": {
        "id": "9tkYl4VsTc2U"
      },
      "outputs": [],
      "source": [
        "numbers = [1, 1000, 1002124, 25, 10, 20, 351]"
      ]
    },
    {
      "cell_type": "code",
      "source": [
        "numbers_int_sorted = sorted(numbers)"
      ],
      "metadata": {
        "id": "v8TekKxBFU5v"
      },
      "execution_count": null,
      "outputs": []
    },
    {
      "cell_type": "code",
      "source": [
        "numbers_int_sorted"
      ],
      "metadata": {
        "colab": {
          "base_uri": "https://localhost:8080/"
        },
        "id": "kT6lpKN3FU27",
        "outputId": "0d936dbe-ac05-42c8-9329-cbc2b379b3cb"
      },
      "execution_count": null,
      "outputs": [
        {
          "output_type": "execute_result",
          "data": {
            "text/plain": [
              "[1, 10, 20, 25, 351, 1000, 1002124]"
            ]
          },
          "metadata": {},
          "execution_count": 39
        }
      ]
    },
    {
      "cell_type": "code",
      "source": [
        "numbers_str = list(map(str, numbers))"
      ],
      "metadata": {
        "id": "iB-I_gLZFUzn"
      },
      "execution_count": null,
      "outputs": []
    },
    {
      "cell_type": "code",
      "source": [
        "numbers_str"
      ],
      "metadata": {
        "colab": {
          "base_uri": "https://localhost:8080/"
        },
        "id": "lglYB6wBAooo",
        "outputId": "14d9f2ea-8ad4-4c3d-a848-ba010f2e9ec5"
      },
      "execution_count": null,
      "outputs": [
        {
          "output_type": "execute_result",
          "data": {
            "text/plain": [
              "['1', '1000', '1002124', '25', '10', '20', '351']"
            ]
          },
          "metadata": {},
          "execution_count": 42
        }
      ]
    },
    {
      "cell_type": "code",
      "source": [
        "numbers_str_sorted = sorted(numbers_str)"
      ],
      "metadata": {
        "id": "g3RNeZyglsAs"
      },
      "execution_count": null,
      "outputs": []
    },
    {
      "cell_type": "code",
      "source": [
        "numbers_str_sorted"
      ],
      "metadata": {
        "colab": {
          "base_uri": "https://localhost:8080/"
        },
        "id": "DMiZhiOplr-V",
        "outputId": "f8087fca-1039-4aa3-cb67-69f9bfa3ca6a"
      },
      "execution_count": null,
      "outputs": [
        {
          "output_type": "execute_result",
          "data": {
            "text/plain": [
              "['1', '10', '1000', '1002124', '20', '25', '351']"
            ]
          },
          "metadata": {},
          "execution_count": 33
        }
      ]
    },
    {
      "cell_type": "code",
      "source": [
        "numbers_str_key_sorted = sorted(numbers_str_sorted, key= int)"
      ],
      "metadata": {
        "id": "KQ8wTFollr8A"
      },
      "execution_count": null,
      "outputs": []
    },
    {
      "cell_type": "code",
      "source": [
        "print(numbers_int_sorted)\n",
        "print(numbers_str_sorted)\n",
        "print(numbers_str_key_sorted)"
      ],
      "metadata": {
        "colab": {
          "base_uri": "https://localhost:8080/"
        },
        "id": "0z09P90VAJJ6",
        "outputId": "849dfc8f-63f5-48d3-e3a4-a723625c23e6"
      },
      "execution_count": null,
      "outputs": [
        {
          "output_type": "stream",
          "name": "stdout",
          "text": [
            "[1, 10, 20, 25, 351, 1000, 1002124]\n",
            "['1', '10', '1000', '1002124', '20', '25', '351']\n",
            "['1', '10', '20', '25', '351', '1000', '1002124']\n"
          ]
        }
      ]
    },
    {
      "cell_type": "code",
      "source": [
        "## в первом случае сравниваются числа, во втором сортировка происходит по правилам сортировки строк ->\n",
        "## 1 (0), 10 (1), 1000(2) т.к. по логике сравнения строк 10 < 10 + 00, 2 0 > 1 000 и тд\n",
        "## в последнем случае происходит сортировка чисел и возвращение строк"
      ],
      "metadata": {
        "id": "dsfkJ0HwAiPV"
      },
      "execution_count": null,
      "outputs": []
    },
    {
      "cell_type": "markdown",
      "metadata": {
        "id": "ezo5CEOHTc2V"
      },
      "source": [
        "## 5. Факультативы (множества)\n",
        "Группа из 3 студентов пишет заявки на желаемые факультативы из списка: английский, немецкий, право, математика, сольфеджио. Факультатив откроют, если на него запишутся все студенты. Каждый студент может выбрать минимум один и максимум три факультатива. Нужно посчитать количество факультативов, которые откроются.\n",
        "\n",
        "*Пример*\n",
        "\n",
        "**Ввод:**\n",
        "\n",
        "английский сольфеджио право  \n",
        "математика сольфеджио  \n",
        "немецкий право\n",
        "\n",
        "**Вывод:**\n",
        "\n",
        "0\n",
        "\n",
        "**Ввод:**\n",
        "\n",
        "математика немецкий право  \n",
        "математика немецкий  \n",
        "немецкий право математика\n",
        "\n",
        "**Вывод:**  \n",
        "2\n",
        "\n",
        "(нужна будет функция input())"
      ]
    },
    {
      "cell_type": "code",
      "execution_count": null,
      "metadata": {
        "id": "jG2pUgeRTc2W",
        "colab": {
          "base_uri": "https://localhost:8080/"
        },
        "outputId": "dc2ea2d1-e56d-485c-a266-5ae35cca79f3"
      },
      "outputs": [
        {
          "output_type": "stream",
          "name": "stdout",
          "text": [
            "математика немецкий право\n",
            "математика немецкий\n",
            "немецкий право математика\n",
            "2\n"
          ]
        }
      ],
      "source": [
        "full_lst = [input().split() for _ in range(3)]\n",
        "counter = 0\n",
        "for i in full_lst[0]:\n",
        "    if i in full_lst[1] and full_lst[2]:\n",
        "        counter += 1\n",
        "print(counter)"
      ]
    },
    {
      "cell_type": "markdown",
      "metadata": {
        "id": "FEu8cS6KTc2W"
      },
      "source": [
        "## 6. Даны два отсортированных списка, соедините их в один отсортированный список\n",
        "\n",
        "Нужно сделать за минимальное возможное кол-во операций\n",
        "\n",
        "    Входные данные: [1,2,3], [3,4,5]\n",
        "    Выходные данные: [1,2,3,3,4,5]\n",
        "\n",
        "    Входные данные: [1,1,1], [1,40,50]\n",
        "    Выходные данные: [1,1,1,1,40,50]"
      ]
    },
    {
      "cell_type": "code",
      "execution_count": null,
      "metadata": {
        "id": "8pTCmzvSTc2W",
        "colab": {
          "base_uri": "https://localhost:8080/"
        },
        "outputId": "71a4b07b-fcec-477f-db78-040ab7cbc2ca"
      },
      "outputs": [
        {
          "output_type": "stream",
          "name": "stdout",
          "text": [
            "[1, 2, 3, 3, 4, 5]\n"
          ]
        }
      ],
      "source": [
        "result = []\n",
        "list_1 = [1, 2, 3,]\n",
        "list_2 = [3, 4, 5]\n",
        "while list_1 and list_2:\n",
        "    result.append((list_1 if list_1[0] < list_2[0] else list_2).pop(0))\n",
        "print(result + list_1 + list_2)"
      ]
    },
    {
      "cell_type": "markdown",
      "metadata": {
        "id": "cqhG29YKTc2X"
      },
      "source": [
        "## 7. Про Поросёнка Петра\n",
        "\n",
        "На плоскости в точке (0,0) стоит Поросёнок Пётр. Он умеет ходить налево, направо, вверх и вниз. Расстояние его прохода в какую-либо сторону измеряется в шагах. Когда он идет вправо, его первая координата увеличивается, когда влево - уменьшается. Когда он идет вверх, его вторая координата увеличивается, а когда вниз - уменьшается.\n",
        "\n",
        "С клавиатуры считывается число N - число ходов, которые сделает Пётр. После чего на каждом шаге спрашивается, сколько шагов и в какую сторону за этот ход Пётр сделает. Так происходит, пока Пётр не осуществит все N ходов.\n",
        "\n",
        "Программа должна вывести, сколько шагов Пётр должен был бы сделать, чтобы кратчайшим путем прибыть из свое начальной точки (0,0) в свою конечную точку. Напоминание: Пётр умеет ходить только вверх-вниз, и влево-вправо, но не по диагонали.\n",
        "\n",
        "Пример ввода:\n",
        "\n",
        "    Введите N: 3\n",
        "    Ход 1: Вверх 1\n",
        "    Ход 2: Вниз 1\n",
        "    Ход 3: Вверх 1\n",
        "    \n",
        "Пример вывода:\n",
        "\n",
        "    Пётр находится на расстоянии 1 от (0,0)"
      ]
    },
    {
      "cell_type": "code",
      "execution_count": null,
      "metadata": {
        "id": "23bZzGRkTc2X",
        "colab": {
          "base_uri": "https://localhost:8080/"
        },
        "outputId": "aeab466b-8090-42e6-c3ce-26df4bed15bf"
      },
      "outputs": [
        {
          "output_type": "stream",
          "name": "stdout",
          "text": [
            "Введите N:3\n",
            "Вверх 2\n",
            "Вниз 4\n",
            "Вправо 1\n",
            "Пётр находится на расстоянии  3 от (0,0)\n"
          ]
        }
      ],
      "source": [
        "x = 0\n",
        "y = 0\n",
        "print('Введите N:', end = '')\n",
        "s = [input().split() for i in range(int(input()))]\n",
        "\n",
        "for i in s:\n",
        "    if i[0] == 'Вверх':\n",
        "        y += int(i[1])\n",
        "    if i[0] == 'Вниз':\n",
        "        y -= int(i[1])\n",
        "    if i[0] == 'Влево':\n",
        "        x -= int(i[1])\n",
        "    if i[0] == 'Вправо':\n",
        "        x += int(i[1])\n",
        "\n",
        "print('Пётр находится на расстоянии ', abs(x) + abs(y), 'от (0,0)')"
      ]
    },
    {
      "cell_type": "markdown",
      "metadata": {
        "id": "FPZwoTgYTc2Y"
      },
      "source": [
        "## 8. Развернуть число\n",
        "\n",
        "Вам на вход подается произвольное целое число. \"Разверните\" его, не используя преобразование к строке.\n",
        "\n",
        "Пример:\n",
        "    \n",
        "    Вход: 12345890\n",
        "    Выход: 9854321"
      ]
    },
    {
      "cell_type": "code",
      "execution_count": null,
      "metadata": {
        "id": "-OZHGZGgTc2Y",
        "colab": {
          "base_uri": "https://localhost:8080/"
        },
        "outputId": "1d184c73-5566-485f-e586-a3e4937bda6d"
      },
      "outputs": [
        {
          "output_type": "stream",
          "name": "stdout",
          "text": [
            "123098\n",
            "890321\n"
          ]
        }
      ],
      "source": [
        "num = int(input())\n",
        "num_turned = 0\n",
        "while num:\n",
        "    num_turned = num_turned*10 + num % 10\n",
        "    num //= 10\n",
        "print(num_turned)"
      ]
    },
    {
      "cell_type": "markdown",
      "metadata": {
        "id": "Q-Uo6rsGTc2Z"
      },
      "source": [
        "## 9. Дано целое число, что может означать зашифрованное им сообщение\n",
        "\n",
        "Дано целое число которое означает последовательность цифр, набранных на кнопочном телефоне (печатали короткую СМСку на русском/английском языке, как вам удобнее). Вывести все варианты того, что может введенная последовательность означать.\n",
        "\n",
        "    Входные данные: digits = \"23\"\n",
        "    Выходные данные: [\"ad\",\"ae\",\"af\",\"bd\",\"be\",\"bf\",\"cd\",\"ce\",\"cf\"]\n",
        "\n",
        "+ усложнение. Попробуйте расшифровать наиболее вероятные введенные слова (вопросы можно задавать)"
      ]
    },
    {
      "cell_type": "code",
      "execution_count": 4,
      "metadata": {
        "id": "sT-Uv59sTc2Z",
        "colab": {
          "base_uri": "https://localhost:8080/"
        },
        "outputId": "838113e8-1645-48e9-940e-6ba2c6b44279"
      },
      "outputs": [
        {
          "output_type": "stream",
          "name": "stdout",
          "text": [
            "['adg', 'adh', 'adi', 'aeg', 'aeh', 'aei', 'afg', 'afh', 'afi', 'bdg', 'bdh', 'bdi', 'beg', 'beh', 'bei', 'bfg', 'bfh', 'bfi', 'cdg', 'cdh', 'cdi', 'ceg', 'ceh', 'cei', 'cfg', 'cfh', 'cfi']\n"
          ]
        }
      ],
      "source": [
        "def letterCombinations(digits):\n",
        "    mapping = {\n",
        "        \"2\": \"abc\",\n",
        "        \"3\": \"def\",\n",
        "        \"4\": \"ghi\",\n",
        "        \"5\": \"jkl\",\n",
        "        \"6\": \"mno\",\n",
        "        \"7\": \"pqrs\",\n",
        "        \"8\": \"tuv\",\n",
        "        \"9\": \"wxyz\"\n",
        "    }\n",
        "    def backtrack(combination, next_digits):\n",
        "        if not next_digits:\n",
        "            output.append(combination)\n",
        "        else:\n",
        "            for letter in mapping[next_digits[0]]:\n",
        "                backtrack(combination + letter, next_digits[1:])\n",
        "    output = []\n",
        "    backtrack(\"\", digits)\n",
        "    return output\n",
        "\n",
        "digits = '234'\n",
        "print(letterCombinations(digits)) ## мне кажется есть более изящный способ))"
      ]
    },
    {
      "cell_type": "markdown",
      "metadata": {
        "id": "9agUZbx2Tc2Z"
      },
      "source": [
        "## 10. Объединение словарей\n",
        "\n",
        "Напишите программу, которая подсчитывает значения из произвольного списка словарей следующего вида.\n",
        "\n",
        "Ввод:\n",
        "\n",
        "    shops = [{'товар': 'яблоки', 'количество': 400}, {'товар': 'конфеты', 'количество': 300}, {'товар': 'яблоки', 'количество': 750}]\n",
        "\n",
        "\n",
        "Вывод:\n",
        "\n",
        "    {'яблоки': 1150, 'конфеты': 300}"
      ]
    },
    {
      "cell_type": "code",
      "execution_count": null,
      "metadata": {
        "id": "uolBdfv-Tc2a"
      },
      "outputs": [],
      "source": [
        "shops = [{'товар': 'яблоки', 'количество': 400},\n",
        "         {'товар': 'конфеты', 'количество': 300},\n",
        "         {'товар': 'яблоки', 'количество': 750}]"
      ]
    },
    {
      "cell_type": "code",
      "source": [
        "shops_rem = []\n",
        "for i in shops:\n",
        "    shops_rem.append({i['товар']: i['количество']})\n",
        "print(shops_rem)"
      ],
      "metadata": {
        "colab": {
          "base_uri": "https://localhost:8080/"
        },
        "id": "RE80Us4sWnN3",
        "outputId": "3aaebe16-958d-479e-df47-56219e990775"
      },
      "execution_count": null,
      "outputs": [
        {
          "output_type": "stream",
          "name": "stdout",
          "text": [
            "[{'яблоки': 400}, {'конфеты': 300}, {'яблоки': 750}]\n"
          ]
        }
      ]
    },
    {
      "cell_type": "code",
      "source": [
        "resultdict = {}\n",
        "for dictionary in shops_rem:\n",
        "    for key in dictionary:\n",
        "        try:\n",
        "            resultdict[key] += dictionary[key]\n",
        "        except KeyError:\n",
        "            resultdict[key] = dictionary[key]\n",
        "\n",
        "print(resultdict)"
      ],
      "metadata": {
        "colab": {
          "base_uri": "https://localhost:8080/"
        },
        "id": "D-4t9L3pixEe",
        "outputId": "5899eda3-0f8e-4037-be5f-20b7f149dfcf"
      },
      "execution_count": null,
      "outputs": [
        {
          "output_type": "stream",
          "name": "stdout",
          "text": [
            "{'яблоки': 1150, 'конфеты': 300}\n"
          ]
        }
      ]
    },
    {
      "cell_type": "markdown",
      "metadata": {
        "id": "wbpowg0bTc2b"
      },
      "source": [
        "## 11. Треугольник\n",
        "\n",
        "На вход принимается число N.\n",
        "\n",
        "Выведите на печать следующий паттерн:\n",
        "\n",
        "1\n",
        "\n",
        "1 2\n",
        "\n",
        "1 2 3\n",
        "\n",
        "1 2 3 4\n",
        "\n",
        "...\n",
        "\n",
        "1 ... N"
      ]
    },
    {
      "cell_type": "code",
      "execution_count": null,
      "metadata": {
        "id": "_EMujdsDTc2c",
        "colab": {
          "base_uri": "https://localhost:8080/"
        },
        "outputId": "80088a2b-db4c-474a-992c-c1c7383d405d"
      },
      "outputs": [
        {
          "output_type": "stream",
          "name": "stdout",
          "text": [
            "5\n",
            "1 \n",
            "1 2 \n",
            "1 2 3 \n",
            "1 2 3 4 \n",
            "1 2 3 4 5 \n"
          ]
        }
      ],
      "source": [
        "n = int(input())\n",
        "\n",
        "for i in range(1, n + 1):\n",
        "    for j in range(1, i + 1):\n",
        "        print(j, end = ' ')\n",
        "    print()\n"
      ]
    }
  ],
  "metadata": {
    "kernelspec": {
      "display_name": "Python 3",
      "language": "python",
      "name": "python3"
    },
    "language_info": {
      "codemirror_mode": {
        "name": "ipython",
        "version": 3
      },
      "file_extension": ".py",
      "mimetype": "text/x-python",
      "name": "python",
      "nbconvert_exporter": "python",
      "pygments_lexer": "ipython3",
      "version": "3.8.3"
    },
    "colab": {
      "provenance": []
    }
  },
  "nbformat": 4,
  "nbformat_minor": 0
}